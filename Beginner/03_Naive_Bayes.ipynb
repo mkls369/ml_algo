{
 "cells": [
  {
   "cell_type": "markdown",
   "id": "77eba09b-b2c9-485e-9ff7-e155fc012b4e",
   "metadata": {},
   "source": [
    "Bayes Bayes. Let's start with his formula:\n",
    "\n",
    "$P(A|x) = \\frac{P(x|A)P(A)}{P(x)} = \\frac{P(A\\cap x)}{P(x)} $\n",
    "\n",
    "We have $P(A)$ the probability of $A$ occuring in a more general case it is called a parameter. And also we have $P(x)$ - probablility of $x$ data occuring.\n",
    "\n",
    "Now some explaining to do: we have an event $A$ that can occur with a probability P(A) - this a called a prior i.e. a probability we have without taking into account any helpful information. We are interested in using information that some data $x$ can bring about $A$. This probablity is called the posterior (or a conditional probability) and is written as $P(x|A)$. Then there's somthing we call the likelihood P(x|A) - it is another conditional probability. It quantifies how likelily (thus likelihood) is the evidence to be observed on if our hypothesis is true. Lastly there is the marginal likelihood/probability of $P(x)$."
   ]
  },
  {
   "cell_type": "markdown",
   "id": "b9c85032-4a9e-48e1-a81c-22859e9769ea",
   "metadata": {},
   "source": [
    "It seems that we have to calculate $P(A|x)$ given $P(x|A)$ $P(A)$ and $P(x)$. Let's start expanding it for a single probablity of class $A$  \n",
    "\n",
    "$P(A_i|x) = \\frac{P(x|A_i)P(A_i)}{P(x)} \\propto P(x|A)P(A)= P(A)\\prod P(x_k|A_i) = P(A) \\frac{1}{\\sqrt{\\pi{\\sigma}^2_{ik}}}exp(-\\frac{(x-\\mu_{ik})^2}{2\\sigma{^2}_{ik}})$\n",
    "\n",
    "There's a lot of going on in the equaltions above. First of all we got rid of $P(x)$ because it is the same for all of for all the classes. By doing so we forwent calculating the exact posterior probability, but we preserved the order of the probabilites which is what we really need. Then there's the $P(A)\\prod P(x_k|A_i)$ which is the main assumption of the naive Bayes model which is independance of features ($x$). The last equation is the assumption of features to follow a gaussian distribution.\n",
    "\n",
    "One more point is that we use log-likelihood instead of likelihood:  \n",
    "$log[(P|A)] \\propto log(A_i) +\\Sigma_i^{K} log(P(x_k|A_i))$\n",
    "\n",
    "\n",
    "So let's list what we need:  \n",
    "1. Prior for classes $P(A_i)$ - for these we can take the frequencies of classes\n",
    "2. Parameters for $\\mu$ and $\\sigma$ of the features - we can use the data to estimate these\n",
    "3.\n"
   ]
  },
  {
   "cell_type": "code",
   "execution_count": 1,
   "id": "c7b4a570-0d9c-4dbc-8cd8-c77982309e84",
   "metadata": {},
   "outputs": [],
   "source": [
    "import pandas as pd\n",
    "import numpy as np\n",
    "from sklearn import datasets\n",
    "\n",
    "iris = datasets.load_iris()\n",
    "df=pd.DataFrame(iris['data'])\n",
    "df.columns=iris.feature_names\n",
    "df['y']=iris['target']\n",
    "\n",
    "train = df.sample(frac = 0.8, random_state = 369)\n",
    "test = df.drop(train.index)\n"
   ]
  },
  {
   "cell_type": "code",
   "execution_count": 2,
   "id": "8b55e750-bcdc-4e27-8dba-f7e1b5a5347c",
   "metadata": {},
   "outputs": [],
   "source": [
    "X=train.iloc[:,0:4]\n",
    "y=train.loc[:,[\"y\"]]"
   ]
  },
  {
   "cell_type": "code",
   "execution_count": 3,
   "id": "19dfa1c4-42d9-4a30-bc23-a68106ca0c54",
   "metadata": {},
   "outputs": [],
   "source": [
    "means = train.groupby([\"y\"]).mean() # Estimate mean of each class, feature\n",
    "variances = train.groupby([\"y\"]).var() # Estimate variance of each class, feature\n",
    "priors = (train.groupby(\"y\").count() / len(train)).iloc[:,1] # Estimate prior probabilities\n",
    "classes = np.unique(train[\"y\"].tolist()) # Storing all possible classes"
   ]
  },
  {
   "cell_type": "code",
   "execution_count": 7,
   "id": "09103c3a-d4a6-4cf7-b44c-dd2e70002d27",
   "metadata": {},
   "outputs": [
    {
     "data": {
      "text/html": [
       "<div>\n",
       "<style scoped>\n",
       "    .dataframe tbody tr th:only-of-type {\n",
       "        vertical-align: middle;\n",
       "    }\n",
       "\n",
       "    .dataframe tbody tr th {\n",
       "        vertical-align: top;\n",
       "    }\n",
       "\n",
       "    .dataframe thead th {\n",
       "        text-align: right;\n",
       "    }\n",
       "</style>\n",
       "<table border=\"1\" class=\"dataframe\">\n",
       "  <thead>\n",
       "    <tr style=\"text-align: right;\">\n",
       "      <th></th>\n",
       "      <th>sepal length (cm)</th>\n",
       "      <th>sepal width (cm)</th>\n",
       "      <th>petal length (cm)</th>\n",
       "      <th>petal width (cm)</th>\n",
       "    </tr>\n",
       "    <tr>\n",
       "      <th>y</th>\n",
       "      <th></th>\n",
       "      <th></th>\n",
       "      <th></th>\n",
       "      <th></th>\n",
       "    </tr>\n",
       "  </thead>\n",
       "  <tbody>\n",
       "    <tr>\n",
       "      <th>0</th>\n",
       "      <td>4.952381</td>\n",
       "      <td>3.388095</td>\n",
       "      <td>1.450000</td>\n",
       "      <td>0.245238</td>\n",
       "    </tr>\n",
       "    <tr>\n",
       "      <th>1</th>\n",
       "      <td>6.000000</td>\n",
       "      <td>2.774359</td>\n",
       "      <td>4.325641</td>\n",
       "      <td>1.330769</td>\n",
       "    </tr>\n",
       "    <tr>\n",
       "      <th>2</th>\n",
       "      <td>6.566667</td>\n",
       "      <td>2.964103</td>\n",
       "      <td>5.515385</td>\n",
       "      <td>1.987179</td>\n",
       "    </tr>\n",
       "  </tbody>\n",
       "</table>\n",
       "</div>"
      ],
      "text/plain": [
       "   sepal length (cm)  sepal width (cm)  petal length (cm)  petal width (cm)\n",
       "y                                                                          \n",
       "0           4.952381          3.388095           1.450000          0.245238\n",
       "1           6.000000          2.774359           4.325641          1.330769\n",
       "2           6.566667          2.964103           5.515385          1.987179"
      ]
     },
     "execution_count": 7,
     "metadata": {},
     "output_type": "execute_result"
    }
   ],
   "source": [
    "means"
   ]
  },
  {
   "cell_type": "code",
   "execution_count": 8,
   "id": "70ae55a4-f83c-48c3-8c82-2012d3399375",
   "metadata": {},
   "outputs": [
    {
     "data": {
      "text/html": [
       "<div>\n",
       "<style scoped>\n",
       "    .dataframe tbody tr th:only-of-type {\n",
       "        vertical-align: middle;\n",
       "    }\n",
       "\n",
       "    .dataframe tbody tr th {\n",
       "        vertical-align: top;\n",
       "    }\n",
       "\n",
       "    .dataframe thead th {\n",
       "        text-align: right;\n",
       "    }\n",
       "</style>\n",
       "<table border=\"1\" class=\"dataframe\">\n",
       "  <thead>\n",
       "    <tr style=\"text-align: right;\">\n",
       "      <th></th>\n",
       "      <th>sepal length (cm)</th>\n",
       "      <th>sepal width (cm)</th>\n",
       "      <th>petal length (cm)</th>\n",
       "      <th>petal width (cm)</th>\n",
       "    </tr>\n",
       "    <tr>\n",
       "      <th>y</th>\n",
       "      <th></th>\n",
       "      <th></th>\n",
       "      <th></th>\n",
       "      <th></th>\n",
       "    </tr>\n",
       "  </thead>\n",
       "  <tbody>\n",
       "    <tr>\n",
       "      <th>0</th>\n",
       "      <td>0.105482</td>\n",
       "      <td>0.136196</td>\n",
       "      <td>0.027439</td>\n",
       "      <td>0.012294</td>\n",
       "    </tr>\n",
       "    <tr>\n",
       "      <th>1</th>\n",
       "      <td>0.223684</td>\n",
       "      <td>0.093536</td>\n",
       "      <td>0.176694</td>\n",
       "      <td>0.035344</td>\n",
       "    </tr>\n",
       "    <tr>\n",
       "      <th>2</th>\n",
       "      <td>0.456491</td>\n",
       "      <td>0.110256</td>\n",
       "      <td>0.359757</td>\n",
       "      <td>0.072200</td>\n",
       "    </tr>\n",
       "  </tbody>\n",
       "</table>\n",
       "</div>"
      ],
      "text/plain": [
       "   sepal length (cm)  sepal width (cm)  petal length (cm)  petal width (cm)\n",
       "y                                                                          \n",
       "0           0.105482          0.136196           0.027439          0.012294\n",
       "1           0.223684          0.093536           0.176694          0.035344\n",
       "2           0.456491          0.110256           0.359757          0.072200"
      ]
     },
     "execution_count": 8,
     "metadata": {},
     "output_type": "execute_result"
    }
   ],
   "source": [
    "variances"
   ]
  },
  {
   "cell_type": "code",
   "execution_count": 9,
   "id": "6ef430db-500f-4538-9e01-60fecc1b0838",
   "metadata": {},
   "outputs": [
    {
     "data": {
      "text/plain": [
       "y\n",
       "0    0.350\n",
       "1    0.325\n",
       "2    0.325\n",
       "Name: sepal width (cm), dtype: float64"
      ]
     },
     "execution_count": 9,
     "metadata": {},
     "output_type": "execute_result"
    }
   ],
   "source": [
    "priors"
   ]
  },
  {
   "cell_type": "code",
   "execution_count": 10,
   "id": "fa8cbba8-fe33-4438-b56f-e989b3f0873d",
   "metadata": {},
   "outputs": [],
   "source": [
    "def log_likelihood_normal(X, mean, var):\n",
    "        return -0.5 * np.log(2 * np.pi * var) - 0.5 * ((X - mean) ** 2 / var)"
   ]
  },
  {
   "cell_type": "code",
   "execution_count": 11,
   "id": "6e277a3b-2b44-44cc-80e8-5165a36b055b",
   "metadata": {},
   "outputs": [
    {
     "data": {
      "text/plain": [
       "sepal length (cm)    7.7\n",
       "sepal width (cm)     2.6\n",
       "petal length (cm)    6.9\n",
       "petal width (cm)     2.3\n",
       "Name: 118, dtype: float64"
      ]
     },
     "execution_count": 11,
     "metadata": {},
     "output_type": "execute_result"
    }
   ],
   "source": [
    "X.iloc[0]"
   ]
  },
  {
   "cell_type": "code",
   "execution_count": 13,
   "id": "2e8aae7e-3a33-4dd3-8a31-132c2ae564de",
   "metadata": {},
   "outputs": [
    {
     "data": {
      "text/html": [
       "<div>\n",
       "<style scoped>\n",
       "    .dataframe tbody tr th:only-of-type {\n",
       "        vertical-align: middle;\n",
       "    }\n",
       "\n",
       "    .dataframe tbody tr th {\n",
       "        vertical-align: top;\n",
       "    }\n",
       "\n",
       "    .dataframe thead th {\n",
       "        text-align: right;\n",
       "    }\n",
       "</style>\n",
       "<table border=\"1\" class=\"dataframe\">\n",
       "  <thead>\n",
       "    <tr style=\"text-align: right;\">\n",
       "      <th></th>\n",
       "      <th>sepal length (cm)</th>\n",
       "      <th>sepal width (cm)</th>\n",
       "      <th>petal length (cm)</th>\n",
       "      <th>petal width (cm)</th>\n",
       "    </tr>\n",
       "    <tr>\n",
       "      <th>y</th>\n",
       "      <th></th>\n",
       "      <th></th>\n",
       "      <th></th>\n",
       "      <th></th>\n",
       "    </tr>\n",
       "  </thead>\n",
       "  <tbody>\n",
       "    <tr>\n",
       "      <th>0</th>\n",
       "      <td>-35.579634</td>\n",
       "      <td>-2.202253</td>\n",
       "      <td>-540.366600</td>\n",
       "      <td>-170.433452</td>\n",
       "    </tr>\n",
       "    <tr>\n",
       "      <th>1</th>\n",
       "      <td>-6.630179</td>\n",
       "      <td>0.103257</td>\n",
       "      <td>-18.805982</td>\n",
       "      <td>-12.537080</td>\n",
       "    </tr>\n",
       "    <tr>\n",
       "      <th>2</th>\n",
       "      <td>-1.933712</td>\n",
       "      <td>-0.417658</td>\n",
       "      <td>-3.072295</td>\n",
       "      <td>-0.282459</td>\n",
       "    </tr>\n",
       "  </tbody>\n",
       "</table>\n",
       "</div>"
      ],
      "text/plain": [
       "   sepal length (cm)  sepal width (cm)  petal length (cm)  petal width (cm)\n",
       "y                                                                          \n",
       "0         -35.579634         -2.202253        -540.366600       -170.433452\n",
       "1          -6.630179          0.103257         -18.805982        -12.537080\n",
       "2          -1.933712         -0.417658          -3.072295         -0.282459"
      ]
     },
     "execution_count": 13,
     "metadata": {},
     "output_type": "execute_result"
    }
   ],
   "source": [
    "log_likelihood_normal(X.iloc[0], means, variances)"
   ]
  },
  {
   "cell_type": "code",
   "execution_count": 17,
   "id": "edfd783a-5a83-4925-8b41-edca7f6f724b",
   "metadata": {},
   "outputs": [
    {
     "data": {
      "text/plain": [
       "y\n",
       "0    0.350\n",
       "1    0.325\n",
       "2    0.325\n",
       "Name: sepal width (cm), dtype: float64"
      ]
     },
     "execution_count": 17,
     "metadata": {},
     "output_type": "execute_result"
    }
   ],
   "source": [
    "priors"
   ]
  },
  {
   "cell_type": "code",
   "execution_count": 18,
   "id": "3bfec791-0c03-4eb6-ab2f-6f44d76311ac",
   "metadata": {},
   "outputs": [
    {
     "data": {
      "text/plain": [
       "y\n",
       "0   -1.049822\n",
       "1   -1.123930\n",
       "2   -1.123930\n",
       "Name: sepal width (cm), dtype: float64"
      ]
     },
     "execution_count": 18,
     "metadata": {},
     "output_type": "execute_result"
    }
   ],
   "source": [
    "np.log(priors)"
   ]
  },
  {
   "cell_type": "code",
   "execution_count": 19,
   "id": "da8b798a-eb0c-4aca-a278-f10882661c3a",
   "metadata": {},
   "outputs": [
    {
     "data": {
      "text/plain": [
       "sepal length (cm)    5.8\n",
       "sepal width (cm)     2.6\n",
       "petal length (cm)    4.0\n",
       "petal width (cm)     1.2\n",
       "Name: 92, dtype: float64"
      ]
     },
     "execution_count": 19,
     "metadata": {},
     "output_type": "execute_result"
    }
   ],
   "source": [
    "X.iloc[1]"
   ]
  },
  {
   "cell_type": "code",
   "execution_count": 25,
   "id": "ed94f685-c13b-432e-a520-7c26f28fbbc8",
   "metadata": {},
   "outputs": [],
   "source": [
    "def add_vector_to_df(dff, vector):\n",
    "    for i, r in dff.iteritems():\n",
    "        dff.loc[:,i] += vector\n",
    "    return(dff)"
   ]
  },
  {
   "cell_type": "code",
   "execution_count": 29,
   "id": "bbffebb6-fc1c-4a68-8f77-9a66bea4e456",
   "metadata": {},
   "outputs": [],
   "source": [
    "i=0"
   ]
  },
  {
   "cell_type": "code",
   "execution_count": 31,
   "id": "cae345e2-55f0-42fd-89ec-566f1f2c7fb4",
   "metadata": {},
   "outputs": [
    {
     "data": {
      "text/html": [
       "<div>\n",
       "<style scoped>\n",
       "    .dataframe tbody tr th:only-of-type {\n",
       "        vertical-align: middle;\n",
       "    }\n",
       "\n",
       "    .dataframe tbody tr th {\n",
       "        vertical-align: top;\n",
       "    }\n",
       "\n",
       "    .dataframe thead th {\n",
       "        text-align: right;\n",
       "    }\n",
       "</style>\n",
       "<table border=\"1\" class=\"dataframe\">\n",
       "  <thead>\n",
       "    <tr style=\"text-align: right;\">\n",
       "      <th></th>\n",
       "      <th>sepal length (cm)</th>\n",
       "      <th>sepal width (cm)</th>\n",
       "      <th>petal length (cm)</th>\n",
       "      <th>petal width (cm)</th>\n",
       "    </tr>\n",
       "    <tr>\n",
       "      <th>y</th>\n",
       "      <th></th>\n",
       "      <th></th>\n",
       "      <th></th>\n",
       "      <th></th>\n",
       "    </tr>\n",
       "  </thead>\n",
       "  <tbody>\n",
       "    <tr>\n",
       "      <th>0</th>\n",
       "      <td>-35.579634</td>\n",
       "      <td>-2.202253</td>\n",
       "      <td>-540.366600</td>\n",
       "      <td>-170.433452</td>\n",
       "    </tr>\n",
       "    <tr>\n",
       "      <th>1</th>\n",
       "      <td>-6.630179</td>\n",
       "      <td>0.103257</td>\n",
       "      <td>-18.805982</td>\n",
       "      <td>-12.537080</td>\n",
       "    </tr>\n",
       "    <tr>\n",
       "      <th>2</th>\n",
       "      <td>-1.933712</td>\n",
       "      <td>-0.417658</td>\n",
       "      <td>-3.072295</td>\n",
       "      <td>-0.282459</td>\n",
       "    </tr>\n",
       "  </tbody>\n",
       "</table>\n",
       "</div>"
      ],
      "text/plain": [
       "   sepal length (cm)  sepal width (cm)  petal length (cm)  petal width (cm)\n",
       "y                                                                          \n",
       "0         -35.579634         -2.202253        -540.366600       -170.433452\n",
       "1          -6.630179          0.103257         -18.805982        -12.537080\n",
       "2          -1.933712         -0.417658          -3.072295         -0.282459"
      ]
     },
     "execution_count": 31,
     "metadata": {},
     "output_type": "execute_result"
    }
   ],
   "source": [
    "log_likelihood_normal(X.iloc[i], means, variances) "
   ]
  },
  {
   "cell_type": "code",
   "execution_count": 32,
   "id": "c4d67bd1-ddda-451c-bb44-aaf6ca19d783",
   "metadata": {},
   "outputs": [],
   "source": [
    "l_i = log_likelihood_normal(X.iloc[i], means, variances)\n",
    "l_i = add_vector_to_df(l_i, np.log(priors))"
   ]
  },
  {
   "cell_type": "code",
   "execution_count": 34,
   "id": "84bdb436-1972-4d77-a60e-952a08855d38",
   "metadata": {},
   "outputs": [
    {
     "data": {
      "text/plain": [
       "2"
      ]
     },
     "execution_count": 34,
     "metadata": {},
     "output_type": "execute_result"
    }
   ],
   "source": [
    "np.argmax(l1.sum(axis=1))"
   ]
  },
  {
   "cell_type": "code",
   "execution_count": 36,
   "id": "eeca7b72-117e-4f14-9fb0-3a900f1586db",
   "metadata": {},
   "outputs": [
    {
     "data": {
      "text/plain": [
       "y    2\n",
       "Name: 118, dtype: int64"
      ]
     },
     "execution_count": 36,
     "metadata": {},
     "output_type": "execute_result"
    }
   ],
   "source": [
    "y.iloc[0]"
   ]
  },
  {
   "cell_type": "code",
   "execution_count": 351,
   "id": "b92419d4-6c13-4d1a-af54-a19abab5b554",
   "metadata": {},
   "outputs": [],
   "source": [
    "preds=[]\n",
    "for i in range(0,X.shape[0]):\n",
    "    l1 = log_likelihood_normal(X.iloc[i], means, variances)\n",
    "    l1=add_vector_to_df(l1, np.log(priors))\n",
    "    preds.append(np.argmax(l1.sum(axis=1)))"
   ]
  },
  {
   "cell_type": "code",
   "execution_count": 352,
   "id": "e428e3f6-c437-4f0e-a81e-997de2751fbf",
   "metadata": {},
   "outputs": [
    {
     "data": {
      "text/plain": [
       "0.9583333333333334"
      ]
     },
     "execution_count": 352,
     "metadata": {},
     "output_type": "execute_result"
    }
   ],
   "source": [
    "np.mean(preds==y.values.flatten())"
   ]
  },
  {
   "cell_type": "code",
   "execution_count": 39,
   "id": "600ba812-00d7-41fb-9508-079af82fd6cd",
   "metadata": {},
   "outputs": [],
   "source": [
    "X_test=test.iloc[:,0:4]\n",
    "y_test=test.loc[:,[\"y\"]]"
   ]
  },
  {
   "cell_type": "code",
   "execution_count": 42,
   "id": "91f10136-fc3c-4bd5-9909-a041e20063fc",
   "metadata": {},
   "outputs": [],
   "source": [
    "preds_oos=[]\n",
    "for i in range(0,X_test.shape[0]):\n",
    "    l1 = log_likelihood_normal(X_test.iloc[i], means, variances)\n",
    "    l1=add_vector_to_df(l1, np.log(priors))\n",
    "    preds_oos.append(np.argmax(l1.sum(axis=1)))"
   ]
  },
  {
   "cell_type": "code",
   "execution_count": 40,
   "id": "6e56f6cc-6393-4c67-98f3-3a360c0c5a10",
   "metadata": {},
   "outputs": [
    {
     "name": "stdout",
     "output_type": "stream",
     "text": [
      "A\n"
     ]
    }
   ],
   "source": [
    "print(\"A\")"
   ]
  },
  {
   "cell_type": "code",
   "execution_count": 48,
   "id": "48f2ae9f-28a8-423e-9bbf-9efed82e897c",
   "metadata": {},
   "outputs": [
    {
     "data": {
      "text/plain": [
       "0.9666666666666667"
      ]
     },
     "execution_count": 48,
     "metadata": {},
     "output_type": "execute_result"
    }
   ],
   "source": [
    "np.mean(preds_oos==y_test['y'].values)"
   ]
  },
  {
   "cell_type": "code",
   "execution_count": 73,
   "id": "36e3a47e-7c74-438b-87e9-cc88e35325d2",
   "metadata": {},
   "outputs": [],
   "source": [
    "class naive_bayes:\n",
    "    def __init__(self):\n",
    "        self.name = \"Naive Bayes classifier\"\n",
    "    def log_likelihood_normal(X, mean, var):\n",
    "        return -0.5 * np.log(2 * np.pi * var) - 0.5 * ((X - mean) ** 2 / var)\n",
    "    def add_vector_to_df(dff, vector):\n",
    "        for i, r in dff.iteritems():\n",
    "            dff.loc[:,i] += vector\n",
    "        return(dff)\n",
    "    def predict(self, X):\n",
    "        preds=list()\n",
    "        for i in range(0,X.shape[0]):\n",
    "            l1 = log_likelihood_normal(X.iloc[i], means, variances)\n",
    "            l1=add_vector_to_df(l1, np.log(priors))\n",
    "            preds.append(np.argmax(l1.sum(axis=1)))\n",
    "        self.preds = preds\n",
    "    def get_accuracy(self,  y):\n",
    "        if self.preds:\n",
    "            self.accuracy = np.mean(self.preds == y)\n",
    "        else:\n",
    "            print('Run predict() method first')"
   ]
  },
  {
   "cell_type": "code",
   "execution_count": 74,
   "id": "e09f5976-84e6-4930-91b6-2286d049fa42",
   "metadata": {},
   "outputs": [],
   "source": [
    "nb=naive_bayes()"
   ]
  },
  {
   "cell_type": "code",
   "execution_count": 75,
   "id": "c8ba1df3-2e56-4c11-97d9-ecb578898901",
   "metadata": {},
   "outputs": [],
   "source": [
    "nb.predict(X_test)"
   ]
  },
  {
   "cell_type": "code",
   "execution_count": 81,
   "id": "9c2c461f-9afa-4c45-a6cb-01be0f1003ad",
   "metadata": {},
   "outputs": [],
   "source": [
    "nb.get_accuracy(y_test['y'])"
   ]
  },
  {
   "cell_type": "code",
   "execution_count": 82,
   "id": "8704009b-12d8-429f-8934-7c85e338769a",
   "metadata": {},
   "outputs": [
    {
     "data": {
      "text/plain": [
       "0.9666666666666667"
      ]
     },
     "execution_count": 82,
     "metadata": {},
     "output_type": "execute_result"
    }
   ],
   "source": [
    "nb.accuracy"
   ]
  }
 ],
 "metadata": {
  "kernelspec": {
   "display_name": "Python 3 (ipykernel)",
   "language": "python",
   "name": "python3"
  },
  "language_info": {
   "codemirror_mode": {
    "name": "ipython",
    "version": 3
   },
   "file_extension": ".py",
   "mimetype": "text/x-python",
   "name": "python",
   "nbconvert_exporter": "python",
   "pygments_lexer": "ipython3",
   "version": "3.10.6"
  }
 },
 "nbformat": 4,
 "nbformat_minor": 5
}
