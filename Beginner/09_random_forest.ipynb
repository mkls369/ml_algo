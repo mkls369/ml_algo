{
 "cells": [
  {
   "cell_type": "markdown",
   "id": "fd9d84f5-2ccd-4aa4-a19b-4a7a292fbb93",
   "metadata": {},
   "source": [
    "Using random forest is stepping into the realm of model ensambles, but it is one of the most straightforward ones. Regardless it is a very important algorithm that combines both bootrapping and bagging to improve predictive power. I won't be going into much theory and will be reusing a lot of the code from 07_descision_trees.ipynb. However I'll define main concepts."
   ]
  },
  {
   "cell_type": "markdown",
   "id": "9a4e3e7f-f5dc-4371-9ba2-2b9cd6561e6d",
   "metadata": {},
   "source": [
    "So what is a random forest? First of all it as an ensamble of decision trees (this is where the 'forest' comes from). Secondly, both features and observation are randomly sampled to build the decision trees. Finally, the predictions from individual trees are aggregated to get the final prediction. So the algorithm looks like:\n",
    "\n",
    "1. Sample observations with replacement\n",
    "2. When building a tree select number of randomly selected features to build the tree\n",
    "3. Make the split according to a selected measure such as information gain\n",
    "\n",
    "Repeat steps 1-3 until stopping conditions are met\n"
   ]
  },
  {
   "cell_type": "markdown",
   "id": "a65da4fd-5928-429d-81d6-3f5362b57fba",
   "metadata": {},
   "source": [
    "### Step 1\n",
    "\n",
    "Sampling with replacement is often called bootstrapping which in turn has an interesting property: not all of the samples will be selected will building given deceision tree in fact the number of unselected observations will be $\\underset{n \\to \\infty}{lim}(1-\\frac{1}{n})^n=e^{-1}\\approx 0.0367$ where n is sampling size. We can use the the unused samples as out-of-sample (OOS) set. The error rate is usually called the out-of-bag error (OOB)."
   ]
  },
  {
   "cell_type": "markdown",
   "id": "3732581e-32eb-43d6-9e58-c863c0f0e3d9",
   "metadata": {},
   "source": [
    "### Step 2\n",
    "We take m out of K (total available features) (usually m is $m=\\sqrt{K}$) This will create trees that dont share some of the features and probably some trees that don't share any features thus producing uncorrelated trees (predictions) "
   ]
  },
  {
   "cell_type": "markdown",
   "id": "e71d6d46-f244-4c34-a8d9-659178aad6ee",
   "metadata": {},
   "source": [
    "### Step 3\n",
    "Step 3 is just the descision tree algorithm.\n"
   ]
  },
  {
   "cell_type": "code",
   "execution_count": 1,
   "id": "13bc61aa-b0a9-4a6a-9d4b-0fd56e5f239d",
   "metadata": {},
   "outputs": [
    {
     "name": "stderr",
     "output_type": "stream",
     "text": [
      "/home/mkls/.local/lib/python3.10/site-packages/sklearn/datasets/_openml.py:932: FutureWarning: The default value of `parser` will change from `'liac-arff'` to `'auto'` in 1.4. You can set `parser='auto'` to silence this warning. Therefore, an `ImportError` will be raised from 1.4 if the dataset is dense and pandas is not installed. Note that the pandas parser may return different data types. See the Notes Section in fetch_openml's API doc for details.\n",
      "  warn(\n"
     ]
    }
   ],
   "source": [
    "from sklearn.datasets import fetch_openml\n",
    "import numpy as np\n",
    "import pandas as pd\n",
    "from trees_func import *\n",
    "X, y = fetch_openml(\"titanic\", version=1, as_frame=True, return_X_y=True)"
   ]
  },
  {
   "cell_type": "code",
   "execution_count": 26,
   "id": "2427e49e-3732-4e41-8def-a004b4a12e0e",
   "metadata": {},
   "outputs": [],
   "source": [
    "def get_bootstrap_samples(X, y):\n",
    "    boot_idx = list(np.random.choice(range(len(X)), len(X), replace = True))\n",
    "    all_idx = set(range(0, len(X)))\n",
    "    oob_idx = list(all_idx - set(boot_idx))\n",
    "    X_boot = X[boot_idx]\n",
    "    y_boot = y[boot_idx]\n",
    "    X_oob = X[oob_idx]\n",
    "    y_oob = y[oob_idx]\n",
    "    return X_boot, y_boot, X_oob, y_oob"
   ]
  },
  {
   "cell_type": "code",
   "execution_count": 3,
   "id": "70aae8f0-ebdd-4acc-8df3-84fc248f6891",
   "metadata": {},
   "outputs": [],
   "source": [
    "X_b, y_b, X_oob, y_oob = get_bootstrap_samples(X, y)"
   ]
  },
  {
   "cell_type": "markdown",
   "id": "661ac36b-3f56-4b71-b3ee-4adc78f690dd",
   "metadata": {},
   "source": [
    "We'll need to splightly modify `get_best_split` to incorporate the feature parameter"
   ]
  },
  {
   "cell_type": "code",
   "execution_count": 4,
   "id": "17d23956-67ee-4c1e-928b-c2b7fe125381",
   "metadata": {},
   "outputs": [],
   "source": [
    "def get_random_feats(X_b, n_feats = None):\n",
    "    total_feats = X_b.shape[1]\n",
    "    if n_feats is None:\n",
    "        feat_idx = np.random.choice(range(total_feats), int(np.sqrt(total_feats)), replace = False)\n",
    "    else:\n",
    "        feat_idx = np.random.choice(range(total_feats), n_feats, replace = False)\n",
    "    X_feats = X_b.iloc[:,feat_idx]\n",
    "    return X_feats"
   ]
  },
  {
   "cell_type": "code",
   "execution_count": 5,
   "id": "2b734828-215f-4514-b5a9-efa2e768e4d4",
   "metadata": {},
   "outputs": [],
   "source": [
    "n_estimators = 100\n",
    "max_features = 3\n",
    "max_depth = 10\n",
    "min_samples_split = 2"
   ]
  },
  {
   "cell_type": "code",
   "execution_count": 6,
   "id": "bb2d663e-3c1c-431b-8ee0-e2ee02cd0147",
   "metadata": {},
   "outputs": [],
   "source": [
    "feats=['age', 'sibsp', 'parch', 'fare', 'pclass']"
   ]
  },
  {
   "cell_type": "code",
   "execution_count": 7,
   "id": "eedab66b-b14e-4486-b0ed-5e9f4b6b162b",
   "metadata": {},
   "outputs": [],
   "source": [
    "X=X[feats].reset_index(drop = True)\n",
    "y=y.reset_index(drop = True)"
   ]
  },
  {
   "cell_type": "code",
   "execution_count": 8,
   "id": "4f6f37a7-fb0d-43cf-9eab-c1ba1f963bb8",
   "metadata": {},
   "outputs": [],
   "source": [
    "X_b, y_b, X_oob, y_oob = get_bootstrap_samples(X, y)\n",
    "X_np=X_b.to_numpy()\n",
    "y_np=y_b.to_numpy()\n",
    "my_tree=grow_tree(X_np, y_np, depth = 0, min_samples_split=2, max_depth=4)"
   ]
  },
  {
   "cell_type": "code",
   "execution_count": 9,
   "id": "bf7665b4-c0e8-4e56-bc2a-92084b85c1d0",
   "metadata": {},
   "outputs": [],
   "source": [
    "def oob_score(tree, X_test, y_test):\n",
    "    mis_label = 0\n",
    "    for i in range(len(X_test)):\n",
    "        pred = predict_value(X_test[i], tree)\n",
    "        if pred != y_test[i]:\n",
    "            mis_label += 1\n",
    "    return mis_label / len(X_test)"
   ]
  },
  {
   "cell_type": "code",
   "execution_count": 10,
   "id": "79db4b59-90e2-4f11-9923-cf87c069fc30",
   "metadata": {},
   "outputs": [],
   "source": [
    "def traverse_tree(tree):\n",
    "    if tree:\n",
    "        print(vars(tree))\n",
    "        traverse_tree(tree.data_left)\n",
    "        traverse_tree(tree.data_right)"
   ]
  },
  {
   "cell_type": "code",
   "execution_count": 11,
   "id": "03466606-1b74-4285-99f4-1292024da6b5",
   "metadata": {},
   "outputs": [
    {
     "name": "stdout",
     "output_type": "stream",
     "text": [
      "{'feature': 0, 'threshold': 5.0, 'data_left': <trees_func.Node object at 0x7f22c86b8a60>, 'data_right': <trees_func.Node object at 0x7f22c86b9960>, 'gain': 0.19491318231521504, 'value': None}\n",
      "{'feature': 1, 'threshold': 2.0, 'data_left': <trees_func.Node object at 0x7f22c86babf0>, 'data_right': <trees_func.Node object at 0x7f22c86baf50>, 'gain': 0.22883259093217168, 'value': None}\n",
      "{'feature': 3, 'threshold': 14.4, 'data_left': <trees_func.Node object at 0x7f239877a170>, 'data_right': <trees_func.Node object at 0x7f2398778160>, 'gain': 0.17605802720794045, 'value': None}\n",
      "{'feature': 3, 'threshold': 12.475, 'data_left': <trees_func.Node object at 0x7f23988de3b0>, 'data_right': <trees_func.Node object at 0x7f23988de5f0>, 'gain': 0.6617049208213364, 'value': None}\n",
      "{'feature': None, 'threshold': None, 'data_left': None, 'data_right': None, 'gain': None, 'value': '1'}\n",
      "{'feature': None, 'threshold': None, 'data_left': None, 'data_right': None, 'gain': None, 'value': '0'}\n",
      "{'feature': 3, 'threshold': 20.2125, 'data_left': <trees_func.Node object at 0x7f239877b520>, 'data_right': <trees_func.Node object at 0x7f2398779840>, 'gain': 0.038729617172363784, 'value': None}\n",
      "{'feature': None, 'threshold': None, 'data_left': None, 'data_right': None, 'gain': None, 'value': '1'}\n",
      "{'feature': None, 'threshold': None, 'data_left': None, 'data_right': None, 'gain': None, 'value': '1'}\n",
      "{'feature': 3, 'threshold': 31.275, 'data_left': <trees_func.Node object at 0x7f22c86bb040>, 'data_right': <trees_func.Node object at 0x7f22c86baf80>, 'gain': 0.5856755948068322, 'value': None}\n",
      "{'feature': None, 'threshold': None, 'data_left': None, 'data_right': None, 'gain': None, 'value': '0'}\n",
      "{'feature': 0, 'threshold': 3.0, 'data_left': <trees_func.Node object at 0x7f22c86bb010>, 'data_right': <trees_func.Node object at 0x7f22c86b9cc0>, 'gain': 0.17095059445466865, 'value': None}\n",
      "{'feature': None, 'threshold': None, 'data_left': None, 'data_right': None, 'gain': None, 'value': '1'}\n",
      "{'feature': None, 'threshold': None, 'data_left': None, 'data_right': None, 'gain': None, 'value': '1'}\n",
      "{'feature': 3, 'threshold': 52.0, 'data_left': <trees_func.Node object at 0x7f22c86bb1f0>, 'data_right': <trees_func.Node object at 0x7f22c86b9930>, 'gain': 0.07997284738736454, 'value': None}\n",
      "{'feature': 3, 'threshold': 13.0, 'data_left': <trees_func.Node object at 0x7f22c86b9ea0>, 'data_right': <trees_func.Node object at 0x7f22c86b9480>, 'gain': 0.03137952366083119, 'value': None}\n",
      "{'feature': 0, 'threshold': 15.0, 'data_left': <trees_func.Node object at 0x7f22c86b9ab0>, 'data_right': <trees_func.Node object at 0x7f22c86bb3d0>, 'gain': 0.03655060018639544, 'value': None}\n",
      "{'feature': None, 'threshold': None, 'data_left': None, 'data_right': None, 'gain': None, 'value': '1'}\n",
      "{'feature': None, 'threshold': None, 'data_left': None, 'data_right': None, 'gain': None, 'value': '0'}\n",
      "{'feature': 1, 'threshold': 3.0, 'data_left': <trees_func.Node object at 0x7f22c86bb490>, 'data_right': <trees_func.Node object at 0x7f22c86bb340>, 'gain': 0.03884293694226071, 'value': None}\n",
      "{'feature': None, 'threshold': None, 'data_left': None, 'data_right': None, 'gain': None, 'value': '0'}\n",
      "{'feature': None, 'threshold': None, 'data_left': None, 'data_right': None, 'gain': None, 'value': '0'}\n",
      "{'feature': 4, 'threshold': 1.0, 'data_left': <trees_func.Node object at 0x7f22c86b98d0>, 'data_right': <trees_func.Node object at 0x7f22c86bb3a0>, 'gain': 0.031212112277133608, 'value': None}\n",
      "{'feature': 0, 'threshold': 22.0, 'data_left': <trees_func.Node object at 0x7f22c86b9de0>, 'data_right': <trees_func.Node object at 0x7f22c86baf20>, 'gain': 0.07274234922126355, 'value': None}\n",
      "{'feature': None, 'threshold': None, 'data_left': None, 'data_right': None, 'gain': None, 'value': '1'}\n",
      "{'feature': None, 'threshold': None, 'data_left': None, 'data_right': None, 'gain': None, 'value': '1'}\n",
      "{'feature': 3, 'threshold': 65.0, 'data_left': <trees_func.Node object at 0x7f22c86bb190>, 'data_right': <trees_func.Node object at 0x7f22c86b9870>, 'gain': 0.5159090114129985, 'value': None}\n",
      "{'feature': None, 'threshold': None, 'data_left': None, 'data_right': None, 'gain': None, 'value': '1'}\n",
      "{'feature': None, 'threshold': None, 'data_left': None, 'data_right': None, 'gain': None, 'value': '0'}\n"
     ]
    }
   ],
   "source": [
    "traverse_tree(my_tree)"
   ]
  },
  {
   "cell_type": "code",
   "execution_count": 12,
   "id": "dc86c2d4-2450-48dc-9832-9af340192c31",
   "metadata": {},
   "outputs": [
    {
     "data": {
      "text/plain": [
       "'1'"
      ]
     },
     "execution_count": 12,
     "metadata": {},
     "output_type": "execute_result"
    }
   ],
   "source": [
    "predict_value(X_oob.iloc[0], my_tree)"
   ]
  },
  {
   "cell_type": "code",
   "execution_count": 13,
   "id": "d1ca920e-bc1a-4b9e-bb84-1b9e37751643",
   "metadata": {},
   "outputs": [],
   "source": [
    "def build_tree(X_bootstrap, y_bootstrap, max_depth, min_samples_split, max_features):\n",
    "    root_node = find_split_point(X_bootstrap, y_bootstrap, max_features)\n",
    "    split_node(root_node, max_features, min_samples_split, max_depth, 1)\n",
    "    return root_node\n",
    "\n",
    "def random_forest(X_train, y_train, n_estimators, max_features, max_depth, min_samples_split):\n",
    "    tree_ls = list()\n",
    "    oob_ls = list()\n",
    "    for i in range(n_estimators):\n",
    "        X_bootstrap, y_bootstrap, X_oob, y_oob = draw_bootstrap(X_train, y_train)\n",
    "        tree = build_tree(X_bootstrap, y_bootstrap, max_features, max_depth, min_samples_split)\n",
    "        tree_ls.append(tree)\n",
    "        oob_error = oob_score(tree, X_oob, y_oob)\n",
    "        oob_ls.append(oob_error)\n",
    "    print(\"OOB estimate: {:.2f}\".format(np.mean(oob_ls)))\n",
    "    return tree_ls"
   ]
  },
  {
   "cell_type": "code",
   "execution_count": 14,
   "id": "87af46d9-5412-440b-bc4e-d596f2a15cd3",
   "metadata": {},
   "outputs": [],
   "source": [
    "tree_ls = list()\n",
    "oob_ls = list()\n",
    "my_tree=grow_tree(X_np, y_np, depth = 0, min_samples_split=2, max_depth=4)\n",
    "tree_ls.append(my_tree)"
   ]
  },
  {
   "cell_type": "code",
   "execution_count": 15,
   "id": "f186b1aa-4032-4d22-9120-9b92a15009b9",
   "metadata": {},
   "outputs": [],
   "source": [
    "predict_value(X_oob.to_numpy()[0], my_tree)\n",
    "oob_error = oob_score(my_tree, X_oob.to_numpy(), y_oob.to_numpy())"
   ]
  },
  {
   "cell_type": "code",
   "execution_count": 24,
   "id": "42342258-d957-47a9-98d0-af8e84625564",
   "metadata": {},
   "outputs": [
    {
     "ename": "NameError",
     "evalue": "name 'draw_bootstrap' is not defined",
     "output_type": "error",
     "traceback": [
      "\u001b[0;31m---------------------------------------------------------------------------\u001b[0m",
      "\u001b[0;31mNameError\u001b[0m                                 Traceback (most recent call last)",
      "Input \u001b[0;32mIn [24]\u001b[0m, in \u001b[0;36m<cell line: 1>\u001b[0;34m()\u001b[0m\n\u001b[1;32m      1\u001b[0m \u001b[38;5;28;01mfor\u001b[39;00m i \u001b[38;5;129;01min\u001b[39;00m \u001b[38;5;28mrange\u001b[39m(n_estimators):\n\u001b[0;32m----> 2\u001b[0m     X_bootstrap, y_bootstrap, X_oob, y_oob \u001b[38;5;241m=\u001b[39m \u001b[43mdraw_bootstrap\u001b[49m(X_train, y_train)\n\u001b[1;32m      3\u001b[0m     tree \u001b[38;5;241m=\u001b[39m grow_tree(X_bootstrap, y_bootstrap, max_features, max_depth, min_samples_split)\n\u001b[1;32m      4\u001b[0m     tree_ls\u001b[38;5;241m.\u001b[39mappend(tree)\n",
      "\u001b[0;31mNameError\u001b[0m: name 'draw_bootstrap' is not defined"
     ]
    }
   ],
   "source": [
    "for i in range(n_estimators):\n",
    "    X_bootstrap, y_bootstrap, X_oob, y_oob = draw_bootstrap(X_train, y_train)\n",
    "    tree = grow_tree(X_bootstrap, y_bootstrap, max_features, max_depth, min_samples_split)\n",
    "    tree_ls.append(tree)\n",
    "    oob_error = oob_score(tree, X_oob, y_oob)\n",
    "    oob_ls.append(oob_error)\n",
    "# print(\"OOB estimate: {:.2f}\".format(np.mean(oob_ls)))\n",
    "# return tree_ls"
   ]
  },
  {
   "cell_type": "code",
   "execution_count": 39,
   "id": "8b92405a-4403-4050-ae53-7b2e31fb23e4",
   "metadata": {},
   "outputs": [],
   "source": [
    "def random_forest(X_train, y_train, n_estimators, max_features, max_depth, min_samples_split):\n",
    "    tree_ls = list()\n",
    "    oob_ls = list()\n",
    "    n_estimators=10\n",
    "    for i in range(n_estimators):\n",
    "        X_bootstrap, y_bootstrap, X_oob, y_oob = get_bootstrap_samples(X_train, y_train)\n",
    "        tree = grow_tree(X_bootstrap, y_bootstrap, max_features, max_depth, min_samples_split)\n",
    "        tree_ls.append(tree)\n",
    "        oob_error = oob_score(tree, X_oob, y_oob)\n",
    "        oob_ls.append(oob_error)\n",
    "    \n",
    "    print(\"OOB estimate: {:.2f}\".format(np.mean(oob_ls)))\n",
    "    return(tree_ls)"
   ]
  },
  {
   "cell_type": "code",
   "execution_count": 99,
   "id": "77d512d8-28c5-4892-a502-1052ac5c3b77",
   "metadata": {},
   "outputs": [
    {
     "data": {
      "text/plain": [
       "array([[27.    ,  0.    ,  0.    ,  7.8958,  3.    ],\n",
       "       [16.    ,  0.    ,  0.    , 86.5   ,  1.    ],\n",
       "       [30.    ,  0.    ,  0.    , 12.475 ,  3.    ],\n",
       "       ...,\n",
       "       [32.    ,  0.    ,  0.    ,  7.8542,  3.    ],\n",
       "       [    nan,  1.    ,  0.    , 14.4542,  3.    ],\n",
       "       [60.    ,  0.    ,  0.    , 76.2917,  1.    ]])"
      ]
     },
     "execution_count": 99,
     "metadata": {},
     "output_type": "execute_result"
    }
   ],
   "source": [
    "X_np"
   ]
  },
  {
   "cell_type": "code",
   "execution_count": 43,
   "id": "aaf4d6f5-d29d-440a-bdab-af0f10e4633c",
   "metadata": {},
   "outputs": [
    {
     "name": "stdout",
     "output_type": "stream",
     "text": [
      "OOB estimate: 0.45\n"
     ]
    }
   ],
   "source": [
    "res=random_forest(X_train=X_np, y_train=y_np, n_estimators = 10, max_features=2, max_depth=5, min_samples_split=5)"
   ]
  },
  {
   "cell_type": "code",
   "execution_count": 36,
   "id": "93005bbd-7a5d-4ece-9b1a-6868ed53e1a0",
   "metadata": {},
   "outputs": [
    {
     "data": {
      "text/plain": [
       "[0.36363636363636365,\n",
       " 0.3524590163934426,\n",
       " 0.3775933609958506,\n",
       " 0.4024640657084189,\n",
       " 0.3908523908523909,\n",
       " 0.3917748917748918,\n",
       " 0.35639412997903563,\n",
       " 0.3656565656565657,\n",
       " 0.3550420168067227,\n",
       " 0.3199152542372881]"
      ]
     },
     "execution_count": 36,
     "metadata": {},
     "output_type": "execute_result"
    }
   ],
   "source": [
    "oob_ls"
   ]
  },
  {
   "cell_type": "code",
   "execution_count": 44,
   "id": "16e1d59d-2e37-4dff-aaea-c67cd0172b41",
   "metadata": {},
   "outputs": [],
   "source": [
    "def predict_rf(tree_ls, X_test):\n",
    "    pred_ls = list()\n",
    "    for i in range(len(X_test)):\n",
    "        ensemble_preds = [predict_tree(tree, X_test.values[i]) for tree in tree_ls]\n",
    "        final_pred = max(ensemble_preds, key = ensemble_preds.count)\n",
    "        pred_ls.append(final_pred)\n",
    "    return np.array(pred_ls)"
   ]
  },
  {
   "cell_type": "code",
   "execution_count": 61,
   "id": "bffd56f2-1e61-4308-ba56-acf307568bab",
   "metadata": {},
   "outputs": [],
   "source": [
    "tree_preds = list()"
   ]
  },
  {
   "cell_type": "code",
   "execution_count": 62,
   "id": "dd90643e-cc02-4849-b6ee-019f6834cf3b",
   "metadata": {},
   "outputs": [],
   "source": [
    "for tr in res:\n",
    "    rr = [predict_value(X_np[i], tr) for i in range(X_np.shape[0])]\n",
    "    tree_preds.append(rr)"
   ]
  },
  {
   "cell_type": "code",
   "execution_count": 75,
   "id": "8db8a64e-0bed-45d7-ac0a-f7c01dffd484",
   "metadata": {},
   "outputs": [
    {
     "data": {
      "text/plain": [
       "'0'"
      ]
     },
     "execution_count": 75,
     "metadata": {},
     "output_type": "execute_result"
    }
   ],
   "source": [
    "for i in range(0, len(tree_preds))tree_preds[0][0]"
   ]
  },
  {
   "cell_type": "code",
   "execution_count": 92,
   "id": "278afee9-ef47-4559-9aaf-4853ef5fb9a9",
   "metadata": {},
   "outputs": [],
   "source": [
    "ensamble_preds=list()\n",
    "for i in range(0, len(tree_preds[0])):\n",
    "    ensamble_preds.append(st.mode(list(map(lambda l: l[i], tree_preds))))"
   ]
  },
  {
   "cell_type": "code",
   "execution_count": 97,
   "id": "af0f890f-8626-41bf-b245-b3ed22cf5073",
   "metadata": {},
   "outputs": [
    {
     "data": {
      "text/plain": [
       "0.440794499618029"
      ]
     },
     "execution_count": 97,
     "metadata": {},
     "output_type": "execute_result"
    }
   ],
   "source": [
    "np.mean(y==ensamble_preds)"
   ]
  },
  {
   "cell_type": "code",
   "execution_count": 98,
   "id": "10446a2f-6a4c-4212-ae42-85dd8124e458",
   "metadata": {},
   "outputs": [
    {
     "data": {
      "text/plain": [
       "60000"
      ]
     },
     "execution_count": 98,
     "metadata": {},
     "output_type": "execute_result"
    }
   ],
   "source": [
    "5000*12"
   ]
  },
  {
   "cell_type": "code",
   "execution_count": null,
   "id": "51d7d5f8-8fdd-4879-9185-88546b4d3b6c",
   "metadata": {},
   "outputs": [],
   "source": []
  }
 ],
 "metadata": {
  "kernelspec": {
   "display_name": "Python 3 (ipykernel)",
   "language": "python",
   "name": "python3"
  },
  "language_info": {
   "codemirror_mode": {
    "name": "ipython",
    "version": 3
   },
   "file_extension": ".py",
   "mimetype": "text/x-python",
   "name": "python",
   "nbconvert_exporter": "python",
   "pygments_lexer": "ipython3",
   "version": "3.10.6"
  }
 },
 "nbformat": 4,
 "nbformat_minor": 5
}
