{
 "cells": [
  {
   "cell_type": "markdown",
   "id": "5026fae8-ced6-4b4c-8d7d-1bdf734c7ae9",
   "metadata": {},
   "source": [
    "Logistic Regression is a statistical method for analyzing a dataset in which there are one or more independent variables that determine an outcome. The outcome is measured with a dichotomous variable (in which there are only two possible outcomes). We use it to model probabilites of said outcomes and can use the resulting probability to set a label of 0 or 1. It can also be extended for K outcomes (called multinomial logistic regression) but for now let's look at the simplest case of modelling zeroes and ones."
   ]
  },
  {
   "cell_type": "markdown",
   "id": "ce79e816-5e25-46e0-b6be-009970d0ac5c",
   "metadata": {},
   "source": [
    "Let's start again by defining the model.\n",
    "\n",
    "$Y = X\\beta + \\epsilon$\n",
    "\n",
    "The definition looks exactly like the one for linear regression, however there is a catch that out dependent variable ($Y$) is defined very differently.  \n",
    "\n",
    "$Y \\equiv  log(\\frac{p(x)}{1-p(x)})$\n",
    "\n",
    "Thus we can express $p$  \n",
    "as $p(x) = \\frac{1}{1+e^{-X\\beta+\\epsilon}}$ (1)\n",
    "\n"
   ]
  },
  {
   "cell_type": "markdown",
   "id": "ced5ce82-5cae-4aac-8452-af653ebd50fd",
   "metadata": {},
   "source": [
    "We'll need some knowledge of the sigmoid function to proceed, so let's define it here \n",
    "\n",
    "$ \\sigma(x) = \\frac{1}{1+e^{-x}} $  (2)\n",
    "Also it's derivative will be useful so let's derive it here for later use  \n",
    "$ \\sigma'(x) = (\\frac{1}{1+e^{-x}})' =  (\\frac{0*(1+e^{-x})-1*(1+e^{-x})'}{(1+e^{-x})^2}) = \\frac{e^{-x}}{(1+e^{-x})^2}$  \n",
    "$ \\sigma'(x) = \\frac{1-1+e^{-x}}{(1+e^{-x})^2} =  \\frac{1+e^{-x}}{(1+e^{-x})^2} - \\frac{1}{(1+e^{-x})^2} = \\frac{1}{(1+e^{-x})} - \\frac{1}{(1+e^{-x})^2} =\n",
    "\\frac{1}{(1+e^{-x})}(1-\\frac{1}{(1+e^{-x})}) $  \n",
    "$\\sigma'(x) =\\sigma(x)(1-\\sigma(x))$\n",
    "\n",
    "It's derivative can be expressed as a quire simple combination of the original function which is very nice.\n",
    "\n",
    "Lastly, let's take a look at its graph to appreciate the properties"
   ]
  },
  {
   "cell_type": "code",
   "execution_count": 1,
   "id": "7fce496f-ecb6-46dd-b7d8-f528ce64f2ba",
   "metadata": {},
   "outputs": [
    {
     "data": {
      "image/png": "[encoded data removed]",
      "text/plain": [
       "<Figure size 432x288 with 1 Axes>"
      ]
     },
     "metadata": {
      "needs_background": "light"
     },
     "output_type": "display_data"
    }
   ],
   "source": [
    "import numpy as np\n",
    "import matplotlib.pyplot as plt\n",
    "\n",
    "\n",
    "x=np.arange(-10, 10, 0.1)\n",
    "e=2.71828\n",
    "p=1/(1+e**(-x))\n",
    "\n",
    "plt.plot(x, p)\n",
    "plt.title('Logistic function graph')\n",
    "plt.xlabel('x')\n",
    "plt.ylabel('p(x)')\n",
    "plt.show()"
   ]
  },
  {
   "cell_type": "markdown",
   "id": "a7760278-e86a-4faf-aa29-f5469e728289",
   "metadata": {},
   "source": [
    "That's a nice looking non-linear function that can obtain values in the interval [0; 1]. That is probably one of the reasons why it used to model probabilities.\n",
    "\n",
    "Now we have everything we need, the model is defined we have all the necessary prelimenaries to help us in the future calculations.\n",
    "We need to define the cost function for the model which is usually defined like this:\n",
    "\n",
    "\\begin{equation}\n",
    "  L(\\beta;y) =\n",
    "    \\begin{cases}\n",
    "      -log(h(x)) & if  y = 1 \\\\\n",
    "      -log(1-h(x)) & if y = 0  \\\\\n",
    "    \\end{cases}       \n",
    "\\end{equation}\n",
    "\n",
    "Now we can sum error for all data points:  \n",
    "$L(\\beta;y)= -\\frac{1}{m}\\Sigma_n[y_i*log(h(x_i)) + (1-y_i)*log(1-h(x))] $\n",
    "\n",
    "We have the cost function and we can take its derivative. I split the expression into two sums ($L_1$ and  $L_2$) for easier readability \n",
    "\n",
    "$L_1(\\beta;y)'= -\\frac{1}{m}\\Sigma_n [y_i\\frac{1}{h(x)}(1-h(x) )h(x)\\frac{\\partial x\\beta}{\\beta } ]$  \n",
    "$L_2(\\beta;y)'= -\\frac{1}{m}\\Sigma_n [(1-y_i)\\frac{1}{1-h(x)} (-h(x))  (1-h(x)\\frac{\\partial x\\beta}{\\beta } )]$\n"
   ]
  },
  {
   "cell_type": "markdown",
   "id": "c1e8c5de-78a5-42d8-bd6b-81d19f46573c",
   "metadata": {},
   "source": [
    "That's a nice looking non-linear function that can obtain values in the interval [0; 1]. That is probably one of the reasons why it used to model probabilities.\n",
    "\n",
    "Now we have everything we need, the model is defined we have all the necessary prelimenaries to help us in the future calculations.\n",
    "We need to define the cost function for the model which is usually defined like this:\n",
    "\n",
    "\\begin{equation}\n",
    "  L(\\beta;y) =\n",
    "    \\begin{cases}\n",
    "      -log(h(x)) & if  y = 1 \\\\\n",
    "      -log(1-h(x)) & if y = 0  \\\\\n",
    "    \\end{cases}       \n",
    "\\end{equation}\n",
    "\n",
    "Now we can sum error for all data points:  \n",
    "$L(\\beta;y)= -\\frac{1}{m}\\Sigma_n[y_i*log(h(x_i)) + (1-y_i)*log(1-h(x))] $\n",
    "\n",
    "We have the cost function and we can take its derivative. I split the expression into two sums ($L_1$ and  $L_2$) for easier readability. Also I'm taking partial derivatives $\\partial \\beta$ so when I write $\\beta$ I really mean $\\beta_j$ this also goes for $x$ it is really a column $j$ vector of $x$ i.e. $x_j$. It's not a really good thing to do, but the notation can get unwieldy if we include all the indexes.\n",
    "\n",
    "$L_1(\\beta;y)= -\\frac{1}{m}\\Sigma_n [y_i\\frac{1}{h(x)}(1-h(x) )h(x)\\frac{\\partial x\\beta}{\\beta } ] = -\\frac{1}{m}\\Sigma_n[ y_i(1-h(x))x_i)] $  \n",
    "$L_2(\\beta;y)'= -\\frac{1}{m}\\Sigma_n [(1-y_i)\\frac{1}{1-h(x)} (-h(x))  (1-h(x)\\frac{\\partial x\\beta}{\\beta } )]= -\\frac{1}{m}\\Sigma_n[ (1-y_i)h(x)x_i] $  \n",
    "\n",
    "Now add them up back together  \n",
    "$L_1 = -\\frac{1}{m}\\Sigma_n[ y_i(1-h(x))x_i -  (1-y_i)h(x)x_i] = -\\frac{1}{m}\\Sigma_n[y_i - y_ih(x)x_i - h(x)x + y_ih(x)x_i = -\\frac{1}{m}\\Sigma_n[y_ix_i - h(x)x_i] =-\\frac{1}{m}\\Sigma_nx^T_i(y-h(x)) $  \n",
    "\n",
    "And in matrix form it would look like:\n",
    "$\\frac{\\nabla L}{\\nabla \\beta}=X^T(y-H(\\beta))$\n",
    "\n",
    "It looks just like the derivative for linear regression meaning we can use the same update rule:\n",
    "\n",
    "\n",
    "$$\\beta_{t+1} = \\beta_t - \\alpha \\frac{\\partial L(\\beta)}{\\partial \\beta_t}$$\n"
   ]
  },
  {
   "cell_type": "code",
   "execution_count": 239,
   "id": "5bae9c35-2f98-44e6-ab26-7a0d3f322ce7",
   "metadata": {},
   "outputs": [],
   "source": [
    "#Equation (1)\n",
    "def sigmoid(z):\n",
    "    return 1.0 / (1.0 + np.exp(-z))"
   ]
  },
  {
   "cell_type": "code",
   "execution_count": 266,
   "id": "1a42ac55-f351-4918-b722-6d6e31c4b910",
   "metadata": {},
   "outputs": [],
   "source": [
    "def gradient_descent_logistic_regression(X, Y, add_intercept = True, learningrate = 0.001, iterations = 100000):\n",
    "    y_real = np.reshape(Y, (len(Y), 1))   \n",
    "    cost_list = []\n",
    "    m=X.shape[0]\n",
    "\n",
    "    if add_intercept:\n",
    "        X = np.c_[np.ones((len(X), 1)), X]\n",
    "\n",
    "    beta = np.random.randn(X.shape[1], 1)\n",
    "    \n",
    "    for i in range(iterations):\n",
    "        #Equation (1)\n",
    "        prob=sigmoid(X.dot(beta))\n",
    "        gradient = 2/m * X.T.dot(prob - y_real)\n",
    "        beta = beta - learningrate * gradient\n",
    "        #y_hat = sigmoid(X.dot(beta))\n",
    "        #cost_value = - np.sum(np.dot(y_new.T,np.log(y_pred)+ np.dot((1-y_new).T,np.log(1-y_pred)))) /(len(y_pred))\n",
    "        #Calculate the loss for each training instance\n",
    "        #cost_lst.append(cost_value)\n",
    "        #Equation (0)\n",
    "    return beta"
   ]
  },
  {
   "cell_type": "code",
   "execution_count": 292,
   "id": "9ff7d9a6-837d-43c4-a365-c6aad6d3f570",
   "metadata": {
    "tags": []
   },
   "outputs": [],
   "source": [
    "# An example\n",
    "import random\n",
    "N=1000\n",
    "\n",
    "np.random.seed(42)\n",
    "x1=np.array(random.choices([0.,1.], k=N))\n",
    "x2=np.round(np.random.uniform(18,80,N),0)\n",
    "X=np.stack((x1, x2)).T\n",
    "X = np.c_[np.ones((len(X), 1)), X]\n",
    "beta=[-5., 3.5, 0.2]\n",
    "\n",
    "z = np.dot(X, beta)\n",
    "prob = sigmoid(z)\n",
    "y = np.random.binomial(1, prob.flatten())"
   ]
  },
  {
   "cell_type": "code",
   "execution_count": 293,
   "id": "bbd72b19-f42e-46ba-8fcf-b1d9356e8a0e",
   "metadata": {},
   "outputs": [
    {
     "data": {
      "text/plain": [
       "array([[-4.47986954],\n",
       "       [ 2.57902655],\n",
       "       [ 0.18501556]])"
      ]
     },
     "execution_count": 293,
     "metadata": {},
     "output_type": "execute_result"
    }
   ],
   "source": [
    "beta_hat=gradient_descent_logistic_regression(X = X, Y = y, add_intercept = False, learningrate = 0.004, iterations = 100000)\n",
    "beta_hat"
   ]
  },
  {
   "cell_type": "markdown",
   "id": "b5301567-4bde-47a4-bd3d-e17011ca43c2",
   "metadata": {},
   "source": [
    "Now we can fit the same model using sklearn to check our result"
   ]
  },
  {
   "cell_type": "code",
   "execution_count": 294,
   "id": "3ddfa23e-59fd-456e-8458-a194b76ddefd",
   "metadata": {},
   "outputs": [
    {
     "data": {
      "text/plain": [
       "array([[-5.02573467,  2.72122279,  0.20342166]])"
      ]
     },
     "execution_count": 294,
     "metadata": {},
     "output_type": "execute_result"
    }
   ],
   "source": [
    "from sklearn.linear_model import LogisticRegression\n",
    "model = LogisticRegression(solver='lbfgs', random_state=0, fit_intercept = False, penalty = None)\n",
    "model.fit(X, np.ravel(y))\n",
    "model.coef_"
   ]
  },
  {
   "cell_type": "markdown",
   "id": "13d4cc35-f0fa-47bb-b1cd-a564e843237e",
   "metadata": {},
   "source": [
    "Well close enough :)"
   ]
  },
  {
   "cell_type": "code",
   "execution_count": null,
   "id": "7b3f2f32-7a29-47bc-b9b0-6e6dcd73efe6",
   "metadata": {},
   "outputs": [],
   "source": []
  }
 ],
 "metadata": {
  "kernelspec": {
   "display_name": "Python 3 (ipykernel)",
   "language": "python",
   "name": "python3"
  },
  "language_info": {
   "codemirror_mode": {
    "name": "ipython",
    "version": 3
   },
   "file_extension": ".py",
   "mimetype": "text/x-python",
   "name": "python",
   "nbconvert_exporter": "python",
   "pygments_lexer": "ipython3",
   "version": "3.10.6"
  }
 },
 "nbformat": 4,
 "nbformat_minor": 5
}
